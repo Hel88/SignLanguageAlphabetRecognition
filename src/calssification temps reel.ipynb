{
 "cells": [
  {
   "cell_type": "code",
   "execution_count": null,
   "id": "initial_id",
   "metadata": {
    "collapsed": true
   },
   "outputs": [],
   "source": [
    "import cv2\n",
    "import numpy as np\n",
    "from skimage.feature import hog\n",
    "from joblib import load  # Pour charger le modèle SVM\n",
    "\n",
    "# Charger le modèle SVM pré-entraîné\n",
    "svm_model = load(\"svm_hog_model.joblib\") "
   ]
  },
  {
   "metadata": {},
   "cell_type": "code",
   "outputs": [],
   "execution_count": null,
   "source": [
    "# Paramètres HOG utilisés pendant l'entraînement\n",
    "hog_params = {\n",
    "    \"orientations\": 9,\n",
    "    \"pixels_per_cell\": (8, 8),\n",
    "    \"cells_per_block\": (2, 2),\n",
    "    \"block_norm\": 'L2-Hys'\n",
    "}\n",
    "def preprocess_image(frame, size=(28, 28)):\n",
    "    \"\"\"Convertit une image en niveaux de gris et la redimensionne.\"\"\"\n",
    "    gray = cv2.cvtColor(frame, cv2.COLOR_BGR2GRAY)\n",
    "    resized = cv2.resize(gray, size)\n",
    "    return resized\n",
    "\n",
    "def extract_hog_features(image):\n",
    "    \"\"\"Extrait les descripteurs HOG d'une image.\"\"\"\n",
    "    features = hog(image, **hog_params)\n",
    "    return features"
   ],
   "id": "943ade2e9601ba06"
  },
  {
   "metadata": {},
   "cell_type": "code",
   "outputs": [],
   "execution_count": null,
   "source": [
    "# Initialiser la caméra\n",
    "cap = cv2.VideoCapture(0)  # 0 pour la webcam par défaut\n",
    "\n",
    "if not cap.isOpened():\n",
    "    print(\"Erreur : Impossible d'ouvrir la caméra.\")\n",
    "    exit()\n",
    "\n",
    "print(\"Appuyez sur 'q' pour quitter.\")\n",
    "\n",
    "while True:\n",
    "    ret, frame = cap.read()  # Lire une frame depuis la caméra\n",
    "    if not ret:\n",
    "        print(\"Erreur : Impossible de lire la vidéo.\")\n",
    "        break\n",
    "\n",
    "    # Prétraiter la frame\n",
    "    preprocessed_image = preprocess_image(frame)\n"
   ],
   "id": "fb140ffbd8ae0cff"
  }
 ],
 "metadata": {
  "kernelspec": {
   "display_name": "Python 3",
   "language": "python",
   "name": "python3"
  },
  "language_info": {
   "codemirror_mode": {
    "name": "ipython",
    "version": 2
   },
   "file_extension": ".py",
   "mimetype": "text/x-python",
   "name": "python",
   "nbconvert_exporter": "python",
   "pygments_lexer": "ipython2",
   "version": "2.7.6"
  }
 },
 "nbformat": 4,
 "nbformat_minor": 5
}
